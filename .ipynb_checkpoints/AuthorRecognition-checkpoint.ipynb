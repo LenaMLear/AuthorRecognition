{
 "cells": [
  {
   "cell_type": "markdown",
   "id": "0a05aa94-c67a-4fc9-b327-4c9ef86dd5ed",
   "metadata": {},
   "source": [
    "# Author Recognition"
   ]
  },
  {
   "cell_type": "markdown",
   "id": "cbc699d8-6bed-4839-a51d-3f922d815080",
   "metadata": {},
   "source": [
    "### In this project, I will analyse books, for each its writing style and author using NLP. \n",
    "#### Books chosen: \n",
    "    -Pride and Prejudice by Jane Austen\n",
    "    -The Adventures of Huckleberry Finn by Mark Twain \n",
    "    -The Tell-Tale Heart and Other Writing by Edgar Allan Poe\n",
    "        "
   ]
  },
  {
   "cell_type": "code",
   "execution_count": null,
   "id": "c4468c75-8dd8-485e-966e-f53ac0a5d184",
   "metadata": {},
   "outputs": [],
   "source": [
    "#Clean books from table of content, illustrations, summary/introduction, and copyright."
   ]
  },
  {
   "cell_type": "code",
   "execution_count": 39,
   "id": "287911aa-4b13-44a7-80e7-1ecbf1af3e66",
   "metadata": {},
   "outputs": [
    {
     "name": "stdout",
     "output_type": "stream",
     "text": [
      " Cleaned and saved: books\\finn.txt\n",
      " Cleaned and saved: books\\prideprejudice.txt\n",
      "0\n",
      "1\n",
      "2\n",
      "3\n",
      "4\n",
      "5\n",
      "6\n",
      "7\n",
      "8\n",
      "9\n",
      "10\n",
      "11\n",
      " Cleaned and saved: books\\tale.txt\n"
     ]
    }
   ],
   "source": [
    "import os\n",
    "import re\n",
    "\n",
    "def clean_text(file_path):\n",
    "    with open(file_path, \"r\", encoding=\"utf-8\") as file:\n",
    "        lines = file.readlines()\n",
    "\n",
    "    # Convert all text to lowercase\n",
    "    lines = [line.lower() for line in lines]\n",
    "\n",
    "    # Identify start and end of real content \n",
    "    start_idx, end_idx = 0, len(lines)\n",
    " ######  \n",
    "        # Check where chapter 1 begins\n",
    "    count = 0\n",
    "    seen_lines = set()  # Track occurrences of lines\n",
    "    duplicate_line = None  # Variable to store the first duplicate line\n",
    "\n",
    "    for i, line in enumerate(lines):\n",
    "        if re.match(r\"\\s*chapter i\\s*(?=\\W|$)\", line):  # Ensure no partial matches\n",
    "            count += 1\n",
    "            start_idx = i\n",
    "            \n",
    "    if count==0:\n",
    "        for i, line in enumerate(lines):\n",
    "            if line:\n",
    "                if line in seen_lines:\n",
    "                    start_idx=i\n",
    "                    print(i)\n",
    "                    break\n",
    "                else:\n",
    "                    seen_lines.add(line)\n",
    "                    print(i)\n",
    "\n",
    "#####\n",
    "\n",
    " \n",
    "    #check the end of the book\n",
    "    for i in range(len(lines) - 1, 0, -1):\n",
    "        if \"end of the project gutenberg\" in lines[i]:  # Detects end\n",
    "            end_idx = i\n",
    "            break\n",
    "\n",
    "    # Take text from start to end\n",
    "    clean_lines = lines[start_idx:end_idx]\n",
    "\n",
    "    # Remove illustration descriptions\n",
    "    clean_lines = [line for line in clean_lines if not re.search(r\"\\[.*illustration.*\\]\", line, re.IGNORECASE)]\n",
    "\n",
    "    # Remove extra empty lines\n",
    "    clean_text = \"\\n\".join([line.strip() for line in clean_lines if line.strip()])\n",
    "\n",
    "    # Overwrite the file with cleaned text\n",
    "    with open(file_path, \"w\", encoding=\"utf-8\") as file:\n",
    "        file.write(clean_text)\n",
    "\n",
    "    print(f\" Cleaned and saved: {file_path}\")\n",
    "\n",
    "\n",
    "# Folder containing books\n",
    "books_folder = \"books\"\n",
    "\n",
    "# Process all .txt files in the books folder\n",
    "for filename in os.listdir(books_folder):\n",
    "    if filename.endswith(\".txt\"):\n",
    "        file_path = os.path.join(books_folder, filename)\n",
    "        clean_text(file_path)\n"
   ]
  },
  {
   "cell_type": "code",
   "execution_count": null,
   "id": "f9f73237-b966-4f9a-b31f-24a892419d90",
   "metadata": {},
   "outputs": [],
   "source": [
    "#The error occurs because there is 2 empty lines, so it took it as duplicates"
   ]
  },
  {
   "cell_type": "code",
   "execution_count": null,
   "id": "3b4505e6-5f0e-4582-8b84-c62826d872ce",
   "metadata": {},
   "outputs": [],
   "source": []
  },
  {
   "cell_type": "code",
   "execution_count": null,
   "id": "b8ae5fc5-86dd-414c-a41c-c54056e9f3c5",
   "metadata": {},
   "outputs": [],
   "source": []
  },
  {
   "cell_type": "code",
   "execution_count": null,
   "id": "91e7d110-893a-4adb-891c-0ef7a8ffc098",
   "metadata": {},
   "outputs": [],
   "source": []
  }
 ],
 "metadata": {
  "kernelspec": {
   "display_name": "Python 3 (ipykernel)",
   "language": "python",
   "name": "python3"
  },
  "language_info": {
   "codemirror_mode": {
    "name": "ipython",
    "version": 3
   },
   "file_extension": ".py",
   "mimetype": "text/x-python",
   "name": "python",
   "nbconvert_exporter": "python",
   "pygments_lexer": "ipython3",
   "version": "3.11.7"
  }
 },
 "nbformat": 4,
 "nbformat_minor": 5
}
